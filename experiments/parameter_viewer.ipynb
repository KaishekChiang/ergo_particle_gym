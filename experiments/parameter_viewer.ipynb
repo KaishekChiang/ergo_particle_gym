{
 "cells": [
  {
   "cell_type": "code",
   "execution_count": 12,
   "metadata": {},
   "outputs": [
    {
     "name": "stdout",
     "output_type": "stream",
     "text": [
      "tensor_name:  group_policy/agent_bins_0_proximity_gain_ctheta_mean\n",
      "0.16705658\n",
      "tensor_name:  group_policy/agent_bins_0_velocity_gain_ctheta_mean\n",
      "0.7586244\n",
      "tensor_name:  group_policy/agent_bins_1_curl_gain_ctheta_mean\n",
      "-0.0042173285\n",
      "tensor_name:  group_policy/agent_bins_1_proximity_gain_ctheta_mean\n",
      "0.45597717\n",
      "tensor_name:  group_policy/agent_bins_2_curl_gain_ctheta_mean\n",
      "-0.00798293\n",
      "tensor_name:  group_policy/agent_bins_2_proximity_gain_ctheta_mean\n",
      "0.09122682\n",
      "tensor_name:  group_policy/failure_curl_gain_ctheta_mean\n",
      "-0.010072228\n",
      "tensor_name:  group_policy/failure_repulsive_gain_ctheta_mean\n",
      "0.0030917975\n",
      "tensor_name:  group_policy/terminal_line_curl_gain_ctheta_mean\n",
      "0.20355399\n",
      "tensor_name:  group_policy/terminal_line_target_gain_ctheta_mean\n",
      "1.4013417\n"
     ]
    }
   ],
   "source": [
    "import tensorflow as tf\n",
    "from tensorflow.python.tools.inspect_checkpoint import print_tensors_in_checkpoint_file as print_checkpoint\n",
    "# print_checkpoint(\"expdata.2018-10-26.mcgroup_ergo_graph_large.1/policy/\",\n",
    "#                  tensor_name='', all_tensors=True)\n",
    "file_name = \"expdata.2018-10-26.mcgroup_ergo_graph_large.1/policy/\"\n",
    "tensor_names = [\"group_policy/terminal_line_target_gain_ctheta_\",\n",
    "                \"group_policy/terminal_line_curl_gain_ctheta_\",\n",
    "                \"group_policy/agent_bins_0_proximity_gain_ctheta_\",\n",
    "                \"group_policy/agent_bins_0_velocity_gain_ctheta_\",\n",
    "                \"group_policy/agent_bins_1_proximity_gain_ctheta_\",\n",
    "                \"group_policy/agent_bins_1_curl_gain_ctheta_\",\n",
    "                \"group_policy/agent_bins_2_proximity_gain_ctheta_\",\n",
    "                \"group_policy/agent_bins_2_curl_gain_ctheta_\",\n",
    "                \"group_policy/failure_repulsive_gain_ctheta_\",\n",
    "                \"group_policy/failure_curl_gain_ctheta_\",\n",
    "                ]\n",
    "for name in tensor_names:\n",
    "    print_checkpoint(file_name, name+\"mean\", all_tensors=False)"
   ]
  },
  {
   "cell_type": "code",
   "execution_count": 16,
   "metadata": {},
   "outputs": [
    {
     "name": "stdout",
     "output_type": "stream",
     "text": [
      "bp_dist['terminal_line_target_gain'] = (1.377371072769165, 0.0015378431417047977)\n",
      "bp_dist['terminal_line_curl_gain'] = (0.2056545913219452, 8.63581444718875e-05)\n",
      "bp_dist['agent_bins_0_proximity_gain'] = (0.1555984914302826, 0.000683025864418596)\n",
      "bp_dist['agent_bins_0_velocity_gain'] = (0.6871284246444702, 0.00563432602211833)\n",
      "bp_dist['agent_bins_1_proximity_gain'] = (0.44420427083969116, 2.066964043478947e-05)\n",
      "bp_dist['agent_bins_1_curl_gain'] = (-0.010782047174870968, 0.0002686581283342093)\n",
      "bp_dist['agent_bins_2_proximity_gain'] = (0.09113000333309174, 0.0001750293158693239)\n",
      "bp_dist['agent_bins_2_curl_gain'] = (-0.009075969457626343, 3.1743918952997774e-05)\n",
      "bp_dist['failure_repulsive_gain'] = (0.0020840666256844997, 8.799589704722166e-05)\n",
      "bp_dist['failure_curl_gain'] = (-0.004211334977298975, 0.0021259100176393986)\n"
     ]
    }
   ],
   "source": [
    "from tensorflow.python import pywrap_tensorflow\n",
    "file_name = \"expdata.2018-10-26.mcgroup_ergo_graph_large.1/policy/\"\n",
    "var_name_space = \"group_policy/\"\n",
    "reader = pywrap_tensorflow.NewCheckpointReader(file_name)\n",
    "tensor_names = [\"terminal_line_target_gain\",\n",
    "                \"terminal_line_curl_gain\",\n",
    "                \"agent_bins_0_proximity_gain\",\n",
    "                \"agent_bins_0_velocity_gain\",\n",
    "                \"agent_bins_1_proximity_gain\",\n",
    "                \"agent_bins_1_curl_gain\",\n",
    "                \"agent_bins_2_proximity_gain\",\n",
    "                \"agent_bins_2_curl_gain\",\n",
    "                \"failure_repulsive_gain\",\n",
    "                \"failure_curl_gain\",\n",
    "                ]\n",
    "for tname in tensor_names:\n",
    "    tmean = reader.get_tensor(var_name_space + tname + \"_ctheta_mean\")\n",
    "    tstd = reader.get_tensor(var_name_space + tname+\"_ctheta_std\")\n",
    "    print(\"bp_dist['{}'] = ({}, {})\".format(tname, tmean, tstd))"
   ]
  },
  {
   "cell_type": "code",
   "execution_count": null,
   "metadata": {},
   "outputs": [],
   "source": []
  }
 ],
 "metadata": {
  "kernelspec": {
   "display_name": "Python 3",
   "language": "python",
   "name": "python3"
  },
  "language_info": {
   "codemirror_mode": {
    "name": "ipython",
    "version": 3
   },
   "file_extension": ".py",
   "mimetype": "text/x-python",
   "name": "python",
   "nbconvert_exporter": "python",
   "pygments_lexer": "ipython3",
   "version": "3.5.4"
  }
 },
 "nbformat": 4,
 "nbformat_minor": 2
}
